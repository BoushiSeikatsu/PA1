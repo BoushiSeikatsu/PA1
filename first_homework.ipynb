{
 "cells": [
  {
   "cell_type": "code",
   "execution_count": 7,
   "metadata": {},
   "outputs": [],
   "source": [
    "import pandas as pd \n",
    "import numpy as np\n",
    "import itertools\n",
    "import multiprocessing as mp"
   ]
  },
  {
   "cell_type": "code",
   "execution_count": null,
   "metadata": {},
   "outputs": [],
   "source": [
    "dimension = 10\n",
    "widths = [1, 1, 1, 1, 1, 1, 1, 1, 1, 1]\n",
    "matrix = [\n",
    "    [0, 30, 17, 11, 24, 25, 24, 17, 16, 22],\n",
    "    [0, 0, 21, 23, 26, 24, 27, 19, 11, 32],\n",
    "    [0, 0, 0, 24, 18, 23, 31, 36, 28, 19],\n",
    "    [0, 0, 0, 0, 19, 18, 33, 25, 20, 28],\n",
    "    [0, 0, 0, 0, 0, 15, 37, 27, 17, 16],\n",
    "    [0, 0, 0, 0, 0, 0, 27, 23, 29, 24],\n",
    "    [0, 0, 0, 0, 0, 0, 0, 27, 31, 24],\n",
    "    [0, 0, 0, 0, 0, 0, 0, 0, 14, 18],\n",
    "    [0, 0, 0, 0, 0, 0, 0, 0, 0, 24],\n",
    "    [0, 0, 0, 0, 0, 0, 0, 0, 0, 0],\n",
    "          ]"
   ]
  },
  {
   "cell_type": "code",
   "execution_count": 5,
   "metadata": {},
   "outputs": [],
   "source": [
    "def evaluation(dimension, widths, matrix):\n",
    "    result = 0\n",
    "    for i in range(0, dimension):\n",
    "        for j in range(i + 1, dimension):\n",
    "            sumWidths = 0\n",
    "            for k in range(i, j+1):\n",
    "                sumWidths += widths[k]\n",
    "            d = (widths[i] + widths[j])/2 + sumWidths\n",
    "            result += d * matrix[i][j]\n",
    "    return result"
   ]
  },
  {
   "cell_type": "code",
   "execution_count": 6,
   "metadata": {},
   "outputs": [
    {
     "data": {
      "text/plain": [
       "5883.0"
      ]
     },
     "execution_count": 6,
     "metadata": {},
     "output_type": "execute_result"
    }
   ],
   "source": [
    "evaluation(dimension, widths, matrix)"
   ]
  },
  {
   "cell_type": "code",
   "execution_count": null,
   "metadata": {},
   "outputs": [],
   "source": [
    "# Worker function for parallel execution\n",
    "def worker(permutations_chunk, dimension, widths, matrix):\n",
    "    min_distance = float('inf')\n",
    "    best_layout = None\n",
    "\n",
    "    for perm in permutations_chunk:\n",
    "        distance = evaluation(dimension, widths, matrix, perm)\n",
    "        if distance < min_distance:\n",
    "            min_distance = distance\n",
    "            best_layout = perm\n",
    "\n",
    "    return best_layout, min_distance\n",
    "\n",
    "# Divide permutations into chunks for parallel processing\n",
    "def divide_chunks(lst, n):\n",
    "    for i in range(0, len(lst), n):\n",
    "        yield lst[i:i + n]\n",
    "\n",
    "def parallel_srflp(dimension, widths, matrix):\n",
    "    facilities = list(range(dimension))\n",
    "    # Generate all possible layouts (permutations)\n",
    "    all_permutations = list(itertools.permutations(facilities))\n",
    "\n",
    "    # Split the permutations into chunks for parallel processing\n",
    "    num_chunks = mp.cpu_count()\n",
    "    chunk_size = len(all_permutations) // num_chunks\n",
    "    permutation_chunks = list(divide_chunks(all_permutations, chunk_size))\n",
    "\n",
    "    # Create a multiprocessing pool\n",
    "    with mp.Pool(processes=num_chunks) as pool:\n",
    "        # Map the worker function across the chunks\n",
    "        results = pool.starmap(worker, [(chunk, dimension, widths, matrix) for chunk in permutation_chunks])\n",
    "\n",
    "    # Find the best result among all chunks\n",
    "    best_layout, min_distance = min(results, key=lambda x: x[1])\n",
    "\n",
    "    return best_layout, min_distance\n",
    "\n",
    "# Execute the parallel SRFLP solver\n",
    "best_layout, min_distance = parallel_srflp(dimension, widths, matrix)\n",
    "print(\"Best Layout:\", best_layout)\n",
    "print(\"Minimum Weighted Distance:\", min_distance)"
   ]
  },
  {
   "cell_type": "code",
   "execution_count": null,
   "metadata": {},
   "outputs": [],
   "source": []
  }
 ],
 "metadata": {
  "kernelspec": {
   "display_name": "base",
   "language": "python",
   "name": "python3"
  },
  "language_info": {
   "codemirror_mode": {
    "name": "ipython",
    "version": 3
   },
   "file_extension": ".py",
   "mimetype": "text/x-python",
   "name": "python",
   "nbconvert_exporter": "python",
   "pygments_lexer": "ipython3",
   "version": "3.10.9"
  }
 },
 "nbformat": 4,
 "nbformat_minor": 2
}
